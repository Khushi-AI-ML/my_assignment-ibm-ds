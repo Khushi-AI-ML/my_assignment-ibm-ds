{
 "cells": [
  {
   "cell_type": "markdown",
   "id": "dd0467ff",
   "metadata": {},
   "source": [
    "# Data Science Tools and Ecosystem"
   ]
  },
  {
   "cell_type": "markdown",
   "id": "5a1d5e4c",
   "metadata": {},
   "source": [
    "### Here in this notebook , there's summary of Data Science Tools and Ecosystems .\n"
   ]
  },
  {
   "cell_type": "markdown",
   "id": "7f7b6d46",
   "metadata": {},
   "source": [
    "#### Objectives :\n"
   ]
  },
  {
   "attachments": {},
   "cell_type": "markdown",
   "id": "581505b7",
   "metadata": {},
   "source": [
    "#### • Some of popular languages used by Data Scientists are :\n",
    "1. R\n",
    "2. Python\n",
    "3. SQL\n"
   ]
  },
  {
   "cell_type": "markdown",
   "id": "4a598624",
   "metadata": {},
   "source": [
    "#### • Some of commonly used libraries used by Data scientists are :\n",
    "1. Pandas\n",
    "2. Numpy\n",
    "3. Matplotlib\n",
    "4. Seaborn"
   ]
  },
  {
   "cell_type": "markdown",
   "id": "3753a6bb",
   "metadata": {},
   "source": [
    "| Data science tools ||\n",
    "|--------------------|-----\n",
    "|   MLFlow           |\n",
    "| SPSS Modeler flows |\n",
    "| AutoAI in watson studio |\n",
    "\n"
   ]
  },
  {
   "cell_type": "markdown",
   "id": "4a9a70f3",
   "metadata": {},
   "source": [
    "### Below are few examples of evaluating arithmetic expression in python\n",
    "\n"
   ]
  },
  {
   "cell_type": "code",
   "execution_count": 4,
   "id": "efa1595f",
   "metadata": {},
   "outputs": [
    {
     "data": {
      "text/plain": [
       "17"
      ]
     },
     "execution_count": 4,
     "metadata": {},
     "output_type": "execute_result"
    }
   ],
   "source": [
    "(3*4)+5  # this simple arithmetic exprrsion to add & then multiply integers"
   ]
  },
  {
   "cell_type": "code",
   "execution_count": 11,
   "id": "afaea757",
   "metadata": {},
   "outputs": [
    {
     "data": {
      "text/plain": [
       "3.3333333333333335"
      ]
     },
     "execution_count": 11,
     "metadata": {},
     "output_type": "execute_result"
    }
   ],
   "source": [
    "min = 200\n",
    "# this will convert 200 minutes to hrs by divinding by 60 \n",
    "hr = min/60  \n",
    "hr  "
   ]
  },
  {
   "cell_type": "markdown",
   "id": "9dbc3a76",
   "metadata": {},
   "source": [
    " ## Author\n",
    " Khushi Patel"
   ]
  },
  {
   "cell_type": "code",
   "execution_count": null,
   "id": "43fc7fd1",
   "metadata": {},
   "outputs": [],
   "source": []
  }
 ],
 "metadata": {
  "kernelspec": {
   "display_name": "Python 3 (ipykernel)",
   "language": "python",
   "name": "python3"
  },
  "language_info": {
   "codemirror_mode": {
    "name": "ipython",
    "version": 3
   },
   "file_extension": ".py",
   "mimetype": "text/x-python",
   "name": "python",
   "nbconvert_exporter": "python",
   "pygments_lexer": "ipython3",
   "version": "3.9.0"
  }
 },
 "nbformat": 4,
 "nbformat_minor": 5
}
